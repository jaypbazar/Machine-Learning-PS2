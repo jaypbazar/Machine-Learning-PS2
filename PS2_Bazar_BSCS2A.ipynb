{
 "cells": [
  {
   "cell_type": "markdown",
   "metadata": {},
   "source": [
    "#### Imports"
   ]
  },
  {
   "cell_type": "code",
   "execution_count": 7,
   "metadata": {},
   "outputs": [],
   "source": [
    "import pandas as pd\n",
    "from sklearn.linear_model import LogisticRegression\n",
    "from sklearn.model_selection import train_test_split"
   ]
  },
  {
   "cell_type": "markdown",
   "metadata": {},
   "source": [
    "#### Reading the dataset"
   ]
  },
  {
   "cell_type": "code",
   "execution_count": 6,
   "metadata": {},
   "outputs": [
    {
     "data": {
      "text/html": [
       "<div>\n",
       "<style scoped>\n",
       "    .dataframe tbody tr th:only-of-type {\n",
       "        vertical-align: middle;\n",
       "    }\n",
       "\n",
       "    .dataframe tbody tr th {\n",
       "        vertical-align: top;\n",
       "    }\n",
       "\n",
       "    .dataframe thead th {\n",
       "        text-align: right;\n",
       "    }\n",
       "</style>\n",
       "<table border=\"1\" class=\"dataframe\">\n",
       "  <thead>\n",
       "    <tr style=\"text-align: right;\">\n",
       "      <th></th>\n",
       "      <th>SFH</th>\n",
       "      <th>popUpWidnow</th>\n",
       "      <th>SSLfinal_State</th>\n",
       "      <th>Request_URL</th>\n",
       "      <th>URL_of_Anchor</th>\n",
       "      <th>web_traffic</th>\n",
       "      <th>URL_Length</th>\n",
       "      <th>age_of_domain</th>\n",
       "      <th>having_IP_Address</th>\n",
       "      <th>Result</th>\n",
       "    </tr>\n",
       "  </thead>\n",
       "  <tbody>\n",
       "    <tr>\n",
       "      <th>count</th>\n",
       "      <td>1353.000000</td>\n",
       "      <td>1353.000000</td>\n",
       "      <td>1353.000000</td>\n",
       "      <td>1353.000000</td>\n",
       "      <td>1353.000000</td>\n",
       "      <td>1353.000000</td>\n",
       "      <td>1353.000000</td>\n",
       "      <td>1353.000000</td>\n",
       "      <td>1353.000000</td>\n",
       "      <td>1353.000000</td>\n",
       "    </tr>\n",
       "    <tr>\n",
       "      <th>mean</th>\n",
       "      <td>0.237990</td>\n",
       "      <td>-0.258684</td>\n",
       "      <td>0.327421</td>\n",
       "      <td>-0.223208</td>\n",
       "      <td>-0.025129</td>\n",
       "      <td>0.000000</td>\n",
       "      <td>-0.053215</td>\n",
       "      <td>0.219512</td>\n",
       "      <td>0.114560</td>\n",
       "      <td>-0.113821</td>\n",
       "    </tr>\n",
       "    <tr>\n",
       "      <th>std</th>\n",
       "      <td>0.916389</td>\n",
       "      <td>0.679072</td>\n",
       "      <td>0.822193</td>\n",
       "      <td>0.799682</td>\n",
       "      <td>0.936262</td>\n",
       "      <td>0.806776</td>\n",
       "      <td>0.762552</td>\n",
       "      <td>0.975970</td>\n",
       "      <td>0.318608</td>\n",
       "      <td>0.954773</td>\n",
       "    </tr>\n",
       "    <tr>\n",
       "      <th>min</th>\n",
       "      <td>-1.000000</td>\n",
       "      <td>-1.000000</td>\n",
       "      <td>-1.000000</td>\n",
       "      <td>-1.000000</td>\n",
       "      <td>-1.000000</td>\n",
       "      <td>-1.000000</td>\n",
       "      <td>-1.000000</td>\n",
       "      <td>-1.000000</td>\n",
       "      <td>0.000000</td>\n",
       "      <td>-1.000000</td>\n",
       "    </tr>\n",
       "    <tr>\n",
       "      <th>25%</th>\n",
       "      <td>-1.000000</td>\n",
       "      <td>-1.000000</td>\n",
       "      <td>0.000000</td>\n",
       "      <td>-1.000000</td>\n",
       "      <td>-1.000000</td>\n",
       "      <td>-1.000000</td>\n",
       "      <td>-1.000000</td>\n",
       "      <td>-1.000000</td>\n",
       "      <td>0.000000</td>\n",
       "      <td>-1.000000</td>\n",
       "    </tr>\n",
       "    <tr>\n",
       "      <th>50%</th>\n",
       "      <td>1.000000</td>\n",
       "      <td>0.000000</td>\n",
       "      <td>1.000000</td>\n",
       "      <td>0.000000</td>\n",
       "      <td>0.000000</td>\n",
       "      <td>0.000000</td>\n",
       "      <td>0.000000</td>\n",
       "      <td>1.000000</td>\n",
       "      <td>0.000000</td>\n",
       "      <td>-1.000000</td>\n",
       "    </tr>\n",
       "    <tr>\n",
       "      <th>75%</th>\n",
       "      <td>1.000000</td>\n",
       "      <td>0.000000</td>\n",
       "      <td>1.000000</td>\n",
       "      <td>0.000000</td>\n",
       "      <td>1.000000</td>\n",
       "      <td>1.000000</td>\n",
       "      <td>1.000000</td>\n",
       "      <td>1.000000</td>\n",
       "      <td>0.000000</td>\n",
       "      <td>1.000000</td>\n",
       "    </tr>\n",
       "    <tr>\n",
       "      <th>max</th>\n",
       "      <td>1.000000</td>\n",
       "      <td>1.000000</td>\n",
       "      <td>1.000000</td>\n",
       "      <td>1.000000</td>\n",
       "      <td>1.000000</td>\n",
       "      <td>1.000000</td>\n",
       "      <td>1.000000</td>\n",
       "      <td>1.000000</td>\n",
       "      <td>1.000000</td>\n",
       "      <td>1.000000</td>\n",
       "    </tr>\n",
       "  </tbody>\n",
       "</table>\n",
       "</div>"
      ],
      "text/plain": [
       "               SFH  popUpWidnow  SSLfinal_State  Request_URL  URL_of_Anchor  \\\n",
       "count  1353.000000  1353.000000     1353.000000  1353.000000    1353.000000   \n",
       "mean      0.237990    -0.258684        0.327421    -0.223208      -0.025129   \n",
       "std       0.916389     0.679072        0.822193     0.799682       0.936262   \n",
       "min      -1.000000    -1.000000       -1.000000    -1.000000      -1.000000   \n",
       "25%      -1.000000    -1.000000        0.000000    -1.000000      -1.000000   \n",
       "50%       1.000000     0.000000        1.000000     0.000000       0.000000   \n",
       "75%       1.000000     0.000000        1.000000     0.000000       1.000000   \n",
       "max       1.000000     1.000000        1.000000     1.000000       1.000000   \n",
       "\n",
       "       web_traffic   URL_Length  age_of_domain  having_IP_Address       Result  \n",
       "count  1353.000000  1353.000000    1353.000000        1353.000000  1353.000000  \n",
       "mean      0.000000    -0.053215       0.219512           0.114560    -0.113821  \n",
       "std       0.806776     0.762552       0.975970           0.318608     0.954773  \n",
       "min      -1.000000    -1.000000      -1.000000           0.000000    -1.000000  \n",
       "25%      -1.000000    -1.000000      -1.000000           0.000000    -1.000000  \n",
       "50%       0.000000     0.000000       1.000000           0.000000    -1.000000  \n",
       "75%       1.000000     1.000000       1.000000           0.000000     1.000000  \n",
       "max       1.000000     1.000000       1.000000           1.000000     1.000000  "
      ]
     },
     "execution_count": 6,
     "metadata": {},
     "output_type": "execute_result"
    }
   ],
   "source": [
    "dataset = pd.read_csv(\"website+phishing/PhishingData.csv\")\n",
    "\n",
    "dataset.describe()\n",
    "\n",
    "# Result description: 1 = Legitimate, 0 = Suspicious, -1 = Phishy"
   ]
  },
  {
   "cell_type": "markdown",
   "metadata": {},
   "source": [
    "#### Split data into training and testing sets"
   ]
  },
  {
   "cell_type": "code",
   "execution_count": 1,
   "metadata": {},
   "outputs": [
    {
     "ename": "NameError",
     "evalue": "name 'train_test_split' is not defined",
     "output_type": "error",
     "traceback": [
      "\u001b[1;31m---------------------------------------------------------------------------\u001b[0m",
      "\u001b[1;31mNameError\u001b[0m                                 Traceback (most recent call last)",
      "Cell \u001b[1;32mIn[1], line 1\u001b[0m\n\u001b[1;32m----> 1\u001b[0m X_train, X_test, y_train, y_test \u001b[38;5;241m=\u001b[39m \u001b[43mtrain_test_split\u001b[49m(X, y, test_size\u001b[38;5;241m=\u001b[39m\u001b[38;5;241m0.2\u001b[39m, random_state\u001b[38;5;241m=\u001b[39m\u001b[38;5;241m42\u001b[39m)\n",
      "\u001b[1;31mNameError\u001b[0m: name 'train_test_split' is not defined"
     ]
    }
   ],
   "source": [
    "X = \n",
    "\n",
    "X_train, X_test, y_train, y_test = train_test_split(X, y, test_size=0.2, random_state=42)"
   ]
  }
 ],
 "metadata": {
  "kernelspec": {
   "display_name": "Python 3",
   "language": "python",
   "name": "python3"
  },
  "language_info": {
   "codemirror_mode": {
    "name": "ipython",
    "version": 3
   },
   "file_extension": ".py",
   "mimetype": "text/x-python",
   "name": "python",
   "nbconvert_exporter": "python",
   "pygments_lexer": "ipython3",
   "version": "3.10.11"
  }
 },
 "nbformat": 4,
 "nbformat_minor": 2
}
